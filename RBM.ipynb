{
 "cells": [
  {
   "cell_type": "markdown",
   "metadata": {},
   "source": [
    "# Restricted Boltzmann Machine"
   ]
  },
  {
   "cell_type": "markdown",
   "metadata": {},
   "source": [
    "## 0 - Import Dependencies"
   ]
  },
  {
   "cell_type": "code",
   "execution_count": 1,
   "metadata": {
    "collapsed": true
   },
   "outputs": [],
   "source": [
    "import numpy as np"
   ]
  },
  {
   "cell_type": "markdown",
   "metadata": {},
   "source": [
    "## 1 - Helper Functions"
   ]
  },
  {
   "cell_type": "code",
   "execution_count": 2,
   "metadata": {
    "collapsed": true
   },
   "outputs": [],
   "source": [
    "def sigmoid(x):\n",
    "    return 1/(1+np.exp(-x))"
   ]
  },
  {
   "cell_type": "markdown",
   "metadata": {},
   "source": [
    "## 2 - RBM Implementation"
   ]
  },
  {
   "cell_type": "code",
   "execution_count": 3,
   "metadata": {
    "collapsed": true
   },
   "outputs": [],
   "source": [
    "class RBM:\n",
    "    \n",
    "    def __init__(self, shape):\n",
    "        \n",
    "        self.vis_dim = shape[0] + 1\n",
    "        self.hid_dim = shape[1] + 1\n",
    "        \n",
    "        self.weights = 0.2*(np.random.random(shape)-1)\n",
    "        self.weights = np.insert(self.weights, 0, 0, axis=0)\n",
    "        self.weights = np.insert(self.weights, 0, 0, axis=1)\n",
    "        \n",
    "    def forward_prop(self, data):\n",
    "        \n",
    "        hidden_output = np.dot(data, self.weights)\n",
    "        hidden_probs = sigmoid(hidden_output)\n",
    "        hidden_probs[:,0] = 1\n",
    "        hidden_states = hidden_probs > np.random.rand(len(data), self.hid_dim)\n",
    "        associations = np.dot(data.T, hidden_probs)\n",
    "        return hidden_states, associations\n",
    "    \n",
    "    def back_prop(self, data):\n",
    "        \n",
    "        visible_output = np.dot(data, self.weights.T)\n",
    "        visible_probs = sigmoid(visible_output)\n",
    "        visible_probs[:,0] = 1\n",
    "        visible_states = visible_probs > np.random.rand(len(data), self.vis_dim)\n",
    "        associations = np.dot(data.T, visible_probs)\n",
    "        return visible_states, associations\n",
    "        \n",
    "        \n",
    "    def train(self, data, epochs=1000, lr=0.1):\n",
    "        \n",
    "        num_data = len(data)\n",
    "        \n",
    "        # Insert bias into first column\n",
    "        data = np.insert(data, 0, 1, axis=1)\n",
    "        \n",
    "        # Forward propagation\n",
    "        hidden_states, pos_assoc = self.forward_prop(data)\n",
    "        \n",
    "        # Backward propagation\n",
    "        visible_states, neg_assoc = self.back_prop(hidden_states)\n",
    "        \n",
    "        # Weight update\n",
    "        self.weights += lr * (((pos_assoc - neg_assoc.T)/num_data))"
   ]
  },
  {
   "cell_type": "markdown",
   "metadata": {},
   "source": [
    "## 3 - Test Implementation"
   ]
  },
  {
   "cell_type": "markdown",
   "metadata": {},
   "source": [
    "### 3.1 - Train RBM"
   ]
  },
  {
   "cell_type": "code",
   "execution_count": 4,
   "metadata": {
    "collapsed": false
   },
   "outputs": [],
   "source": [
    "# Initialise RBM\n",
    "rbm = RBM((6,2))\n",
    "\n",
    "# Initialise data\n",
    "data1 = np.array([\n",
    "    [1,0,1,0,1,0],\n",
    "    [0,1,0,1,0,1],\n",
    "    [1,0,0,0,1,0],\n",
    "    [0,0,0,1,0,0],\n",
    "    [0,0,1,0,0,0],\n",
    "    [0,1,0,1,0,0]\n",
    "])\n",
    "\n",
    "data2 = np.array([\n",
    "    [1,1,1,0,0,0],\n",
    "    [0,0,0,1,1,1]\n",
    "])\n",
    "\n",
    "# Train RBM\n",
    "for _ in range(1000):\n",
    "    rbm.train(data2)"
   ]
  },
  {
   "cell_type": "markdown",
   "metadata": {},
   "source": [
    "### 3.1 - Test RBM Forward Propagation"
   ]
  },
  {
   "cell_type": "code",
   "execution_count": 5,
   "metadata": {
    "collapsed": false
   },
   "outputs": [
    {
     "name": "stdout",
     "output_type": "stream",
     "text": [
      "{'Both': 2, 'Neither': 0, 'Right': 99998, 'Left': 0}\n",
      "{'Both': 0, 'Neither': 2, 'Right': 0, 'Left': 99998}\n"
     ]
    }
   ],
   "source": [
    "for pattern in ([1,1,1,0,0,0], [0,0,0,1,1,1]):\n",
    "    \n",
    "    left, right, neither, both = 0, 0, 0, 0\n",
    "\n",
    "    for i in range(100000):\n",
    "        x = np.array([pattern])\n",
    "        x = np.insert(x, 0, 0, axis=1)\n",
    "        hidden_states, _ = rbm.forward_prop(x)\n",
    "\n",
    "        if hidden_states[0][1] == True and hidden_states[0][2] == False:\n",
    "            left += 1\n",
    "\n",
    "        elif hidden_states[0][1] == False and hidden_states[0][2] == True:\n",
    "            right += 1\n",
    "\n",
    "        elif hidden_states[0][1] == True and hidden_states[0][2] == True:\n",
    "            both += 1\n",
    "\n",
    "        else: neither += 1\n",
    "\n",
    "    print({'Left':left, 'Right':right, 'Both':both, 'Neither':neither})"
   ]
  },
  {
   "cell_type": "markdown",
   "metadata": {},
   "source": [
    "### 3.2 - Test RBM Backward Propagation"
   ]
  },
  {
   "cell_type": "code",
   "execution_count": 20,
   "metadata": {
    "collapsed": false
   },
   "outputs": [
    {
     "name": "stdout",
     "output_type": "stream",
     "text": [
      "[0, 0, 0, 1, 1, 1]\n",
      "[0, 0, 0, 1, 1, 1]\n",
      "[0, 0, 0, 1, 1, 1]\n",
      "[0, 0, 0, 1, 1, 1]\n",
      "[0, 0, 0, 1, 1, 1]\n",
      "[1, 0, 0, 1, 1, 0]\n",
      "[0, 0, 0, 1, 1, 1]\n",
      "[0, 0, 0, 1, 1, 1]\n",
      "[0, 0, 0, 1, 1, 1]\n",
      "[0, 0, 0, 1, 1, 1]\n"
     ]
    }
   ],
   "source": [
    "for _ in range(10):\n",
    "    y = np.array([[True, False]])\n",
    "    y = np.insert(y, 0, True, axis=1)\n",
    "    visible_states, _ = rbm.back_prop(y)\n",
    "    print([int(val) for val in visible_states[0][1:]])"
   ]
  },
  {
   "cell_type": "code",
   "execution_count": null,
   "metadata": {
    "collapsed": true
   },
   "outputs": [],
   "source": []
  }
 ],
 "metadata": {
  "kernelspec": {
   "display_name": "Python 3",
   "language": "python",
   "name": "python3"
  },
  "language_info": {
   "codemirror_mode": {
    "name": "ipython",
    "version": 3
   },
   "file_extension": ".py",
   "mimetype": "text/x-python",
   "name": "python",
   "nbconvert_exporter": "python",
   "pygments_lexer": "ipython3",
   "version": "3.5.2"
  }
 },
 "nbformat": 4,
 "nbformat_minor": 2
}
